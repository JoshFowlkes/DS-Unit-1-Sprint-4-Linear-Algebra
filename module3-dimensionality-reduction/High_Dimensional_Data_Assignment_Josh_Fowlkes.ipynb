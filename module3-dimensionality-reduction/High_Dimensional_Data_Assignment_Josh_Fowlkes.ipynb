{
  "nbformat": 4,
  "nbformat_minor": 0,
  "metadata": {
    "colab": {
      "name": "High Dimensional Data Assignment- Josh Fowlkes.ipynb",
      "version": "0.3.2",
      "provenance": [],
      "collapsed_sections": [],
      "include_colab_link": true
    },
    "kernelspec": {
      "name": "python3",
      "display_name": "Python 3"
    }
  },
  "cells": [
    {
      "cell_type": "markdown",
      "metadata": {
        "id": "view-in-github",
        "colab_type": "text"
      },
      "source": [
        "<a href=\"https://colab.research.google.com/github/JoshFowlkes/DS-Unit-1-Sprint-4-Linear-Algebra/blob/master/module3-dimensionality-reduction/High_Dimensional_Data_Assignment_Josh_Fowlkes.ipynb\" target=\"_parent\"><img src=\"https://colab.research.google.com/assets/colab-badge.svg\" alt=\"Open In Colab\"/></a>"
      ]
    },
    {
      "cell_type": "markdown",
      "metadata": {
        "id": "7wMWCkE1RZpM",
        "colab_type": "text"
      },
      "source": [
        "# Vertical Line Test"
      ]
    },
    {
      "cell_type": "code",
      "metadata": {
        "id": "aO5Hs0plicwZ",
        "colab_type": "code",
        "colab": {}
      },
      "source": [
        "import matplotlib.pyplot as plt\n",
        "import numpy as np\n",
        "import pandas as pd"
      ],
      "execution_count": 0,
      "outputs": []
    },
    {
      "cell_type": "markdown",
      "metadata": {
        "id": "W0-g7aprRv2j",
        "colab_type": "text"
      },
      "source": [
        "## 1.1 Create two graphs, one that passes the vertical line test and one that does not."
      ]
    },
    {
      "cell_type": "code",
      "metadata": {
        "id": "fIJhCtF6RW_U",
        "colab_type": "code",
        "colab": {
          "base_uri": "https://localhost:8080/",
          "height": 281
        },
        "outputId": "3fe80b29-b4fd-4dfc-98d2-660654b89973"
      },
      "source": [
        "x = [1,2]\n",
        "y = [2,1]\n",
        "\n",
        "plt.plot(x,y)\n",
        "plt.axvline(x=1.5, color='orange')\n",
        "plt.title('Vertical Line Test Pass');"
      ],
      "execution_count": 21,
      "outputs": [
        {
          "output_type": "display_data",
          "data": {
            "image/png": "[encoded data removed]",
            "text/plain": [
              "<Figure size 432x288 with 1 Axes>"
            ]
          },
          "metadata": {
            "tags": []
          }
        }
      ]
    },
    {
      "cell_type": "code",
      "metadata": {
        "id": "JMJzoj-YjAzW",
        "colab_type": "code",
        "colab": {
          "base_uri": "https://localhost:8080/",
          "height": 269
        },
        "outputId": "0a8fae6a-063c-4669-eb25-046825bd4ed2"
      },
      "source": [
        "# made a parabola thanks to some googl fu \n",
        "\n",
        "x1 = np.linspace(-9, 9, 400)\n",
        "y1 = np.linspace(-5, 5, 400)\n",
        "x1, y1 = np.meshgrid(x1, y1)\n",
        "\n",
        "def axes():\n",
        "    plt.axhline(0, alpha=.1)\n",
        "    plt.axvline(0, alpha=.1)\n",
        "\n",
        "a = .3\n",
        "axes()\n",
        "plt.contour(x1, y1, (y1**2 - 4*a*x1), [0], colors='purple')\n",
        "plt.axvline(x=2, color='orange')\n",
        "plt.show()"
      ],
      "execution_count": 22,
      "outputs": [
        {
          "output_type": "display_data",
          "data": {
            "image/png": "[encoded data removed]",
            "text/plain": [
              "<Figure size 432x288 with 1 Axes>"
            ]
          },
          "metadata": {
            "tags": []
          }
        }
      ]
    },
    {
      "cell_type": "markdown",
      "metadata": {
        "id": "ckeTKqMgRy7g",
        "colab_type": "text"
      },
      "source": [
        "## 1.2 Why are graphs that don't pass the vertical line test not considered \"functions?\""
      ]
    },
    {
      "cell_type": "markdown",
      "metadata": {
        "id": "Gtl20YeDR6x-",
        "colab_type": "text"
      },
      "source": [
        "At the core, the reason is because a traditional function will have an x value assigned to a y value. If a function fails the vertical line test and it has an x value associated with more than one y-value, this is indicative that x is dependent on more than just one function of y. "
      ]
    },
    {
      "cell_type": "markdown",
      "metadata": {
        "id": "g21uN62xSKSk",
        "colab_type": "text"
      },
      "source": [
        "# Functions as Relations"
      ]
    },
    {
      "cell_type": "markdown",
      "metadata": {
        "id": "gwkcV-EMSMNd",
        "colab_type": "text"
      },
      "source": [
        "## 2.1 Which of the following relations are functions? Why?\n",
        "\n",
        "\\begin{align}\n",
        "\\text{Relation 1: } \\{(1, 2), (3, 2), (1, 3)\\}\n",
        "\\\\\n",
        "\\text{Relation 2: } \\{(1, 3), (2, 3), (6, 7)\\}\n",
        "\\\\\n",
        "\\text{Relation 3: } \\{(9, 4), (2, 1), (9, 6)\\}\n",
        "\\\\\n",
        "\\text{Relation 4: } \\{(6, 2), (8, 3), (6, 4)\\}\n",
        "\\\\\n",
        "\\text{Relation 5: } \\{(2, 6), (2, 7), (2, 4)\\}\n",
        "\\end{align}"
      ]
    },
    {
      "cell_type": "markdown",
      "metadata": {
        "id": "6kY6bk34mGkt",
        "colab_type": "text"
      },
      "source": [
        "Functions: Relation 2. \n",
        "\n",
        "This would pass the vertical line test(only 1 x value per y, where as the rest have repeated x values and thus would fail the vertical line test and therefore NOT be functions. "
      ]
    },
    {
      "cell_type": "code",
      "metadata": {
        "id": "xZ0lEgIlmcIv",
        "colab_type": "code",
        "colab": {
          "base_uri": "https://localhost:8080/",
          "height": 281
        },
        "outputId": "4f5596f9-a056-4ab2-a224-bb9ad1ab191f"
      },
      "source": [
        "x = [1,3,1]\n",
        "y = [2, 2, 3]\n",
        "\n",
        "plt.plot(x,y)\n",
        "plt.title('Plot of Relation 1')\n",
        "plt.show()\n",
        "# for relation 1 here, see how it would fail the vertical line test, at a glance you can see that\n",
        "# the rest would also fail the vertical line test excluding relation 2"
      ],
      "execution_count": 24,
      "outputs": [
        {
          "output_type": "display_data",
          "data": {
            "image/png": "[encoded data removed]",
            "text/plain": [
              "<Figure size 432x288 with 1 Axes>"
            ]
          },
          "metadata": {
            "tags": []
          }
        }
      ]
    },
    {
      "cell_type": "markdown",
      "metadata": {
        "id": "y0U30PrlTAAa",
        "colab_type": "text"
      },
      "source": [
        "# Functions as a mapping between dimensions\n"
      ]
    },
    {
      "cell_type": "markdown",
      "metadata": {
        "id": "pw-OU9qmT5Ua",
        "colab_type": "text"
      },
      "source": [
        "## 3.1 for the following functions what is the dimensionality of the domain (input) and codomain (range/output)?\n",
        "\n",
        "\\begin{align}\n",
        "m(𝑥_1,𝑥_2,𝑥_3)=(x_1+x_2, x_1+x_3, x_2+x_3)\n",
        "\\\\\n",
        "n(𝑥_1,𝑥_2,𝑥_3,𝑥_4)=(x_2^2 + x_3, x_2x_4)\n",
        "\\end{align}"
      ]
    },
    {
      "cell_type": "markdown",
      "metadata": {
        "id": "gR1aSUUHnXYQ",
        "colab_type": "text"
      },
      "source": [
        "m inputs: 3, m outputs 3\n",
        "\n",
        "n inputs: 4, m outputs 2\n"
      ]
    },
    {
      "cell_type": "markdown",
      "metadata": {
        "id": "k4tKHjdHUevC",
        "colab_type": "text"
      },
      "source": [
        "## 3.2 Do you think it's possible to create a function that maps from a lower dimensional space to a higher dimensional space? If so, provide an example."
      ]
    },
    {
      "cell_type": "markdown",
      "metadata": {
        "id": "TvwyyxlJth-C",
        "colab_type": "text"
      },
      "source": [
        "Upon doing some googl fu, I'm inclined to say that YES! It is possible to for a function to map from a lower dimension to a higher dimension.\n",
        "\n",
        "Example: Within our Data Science scope, this could be as simple as adding an additional column. Not a duplicate column but a new column of information. Whilst this addition does add complexity, it could potentially serve to make the data analysis better. "
      ]
    },
    {
      "cell_type": "markdown",
      "metadata": {
        "id": "2nEWvwVyVWdW",
        "colab_type": "text"
      },
      "source": [
        "# Vector Transformations"
      ]
    },
    {
      "cell_type": "markdown",
      "metadata": {
        "id": "1n0-6FsYVcVk",
        "colab_type": "text"
      },
      "source": [
        "## 4.1 Plug the corresponding unit vectors into each function. Use the output vectors to create a transformation matrix.\n",
        "\n",
        "\\begin{align}\n",
        "p(\\begin{bmatrix}x_1 \\\\ x_2 \\end{bmatrix}) = \\begin{bmatrix} x_1 + 3x_2 \\\\2 x_2 - x_1 \\\\  \\end{bmatrix}\n",
        "\\\\\n",
        "\\\\\n",
        "q(\\begin{bmatrix}x_1 \\\\ x_2 \\\\ x_3\\end{bmatrix}) = \\begin{bmatrix} 4x_1 + x_2 + 2x_3 \\\\2 x_2 - x_1 + 3x_3 \\\\ 5x_1 - 2x_3 + x_2  \\end{bmatrix}\n",
        "\\end{align}"
      ]
    },
    {
      "cell_type": "markdown",
      "metadata": {
        "id": "EH0AHgvavtx6",
        "colab_type": "text"
      },
      "source": [
        "Part 1) \n",
        "\n",
        "\n",
        "\\begin{align}\n",
        "T = \\begin{bmatrix} 1 & 3 \\\\ 2 & -1 \\end{bmatrix}\n",
        "\\end{align}\n",
        "\n",
        "\n",
        "Part 2) \n",
        "\n",
        "\n",
        "\\begin{align}\n",
        "T = \\begin{bmatrix} 4 & 1 & 2 \\\\ 2 & -1 & 3 \\\\ 5 & -2 & 1 \\end{bmatrix}\n",
        "\\end{align}\n",
        "\n",
        "\n",
        "\n"
      ]
    },
    {
      "cell_type": "markdown",
      "metadata": {
        "id": "n5HUOQIxZ2gp",
        "colab_type": "text"
      },
      "source": [
        "## 4.2 Verify that your transformation matrices are correct by choosing an input matrix and calculating the result both via the traditional functions above and also via vector-matrix multiplication."
      ]
    },
    {
      "cell_type": "code",
      "metadata": {
        "id": "0UANR1IEaVWE",
        "colab_type": "code",
        "colab": {
          "base_uri": "https://localhost:8080/",
          "height": 101
        },
        "outputId": "da048bce-6d87-471d-c3cd-4ff1c843d74e"
      },
      "source": [
        "T_input = [3,4]\n",
        "T = [[1,3], [2,-1]]\n",
        "\n",
        "print(np.matmul(T_input, T))\n",
        "print(np.matmul(T, T_input))\n",
        "\n",
        "T_input2 = [1,2,3]\n",
        "T2 = [[4,1,2], [2,-1,3], [5,-2,1]]\n",
        "\n",
        "print('\\n', np.matmul(T_input2, T2))\n",
        "print(np.matmul(T2, T_input2))\n"
      ],
      "execution_count": 173,
      "outputs": [
        {
          "output_type": "stream",
          "text": [
            "[11  5]\n",
            "[15  2]\n",
            "\n",
            " [23 -7 11]\n",
            "[12  9  4]\n"
          ],
          "name": "stdout"
        }
      ]
    },
    {
      "cell_type": "markdown",
      "metadata": {
        "id": "vEoiri3mak7j",
        "colab_type": "text"
      },
      "source": [
        "# Eigenvalues and Eigenvectors"
      ]
    },
    {
      "cell_type": "markdown",
      "metadata": {
        "id": "5HY0R4u7anIr",
        "colab_type": "text"
      },
      "source": [
        "## 5.1 In your own words, give an explanation for the intuition behind eigenvalues and eigenvectors."
      ]
    },
    {
      "cell_type": "markdown",
      "metadata": {
        "id": "p4WZm-1o_jaK",
        "colab_type": "text"
      },
      "source": [
        "Think of the globe intuition. A location on the equator covers a certain distance per rotation. Whereas a location closer to one of the poles covers a smaller distance per the same rotation. And the axis with which the globe spins on doesn't actually move any distance per rotation.(Although this is relative as is the case with physics) With that said, the purpose of Eigen values is through some calculations and number crunching, we are able to analyze both features without the magnitude of the raw numbers granting more importance to any particular feature.\n",
        "\n",
        "Another nice example from lecture on how this would be useful: if you're analyzing a used car, and some features you're comparing are price and # of past owners. The price will naturally be in the thousands whereas the number of owners is most likely gonna be countable on one hand, yet in your analysis, you want to take both factors into consideration. Especially when it comes to machine learning, we would use conepts of eigen values and eigen vectors such that we could use machine learning to do our analysis WITHOUT having the sheer magnitude of the raw numbers(1000s, to a handful) skew the data away from reality."
      ]
    },
    {
      "cell_type": "markdown",
      "metadata": {
        "id": "VdehMwBtatKI",
        "colab_type": "text"
      },
      "source": [
        "# The Curse of Dimensionality"
      ]
    },
    {
      "cell_type": "markdown",
      "metadata": {
        "id": "4oVrJax-a3SK",
        "colab_type": "text"
      },
      "source": [
        "## 6.1 What are some of the challenges of working with high dimensional spaces?"
      ]
    },
    {
      "cell_type": "markdown",
      "metadata": {
        "id": "T7TO9zqMo6WO",
        "colab_type": "text"
      },
      "source": [
        "For starts, working in any spacial dimension greater than 4 becomes difficult to conceptualize for humans outside of a numerical standpoint. \n",
        "\n",
        "When it comes to our actual work here as data scientists, refering back to square vs cube vs hypercube example, it is possible to create a 4 dimensional hyper cube but its starts to get extremely convoluted fast. \n",
        "\n",
        "Next is when it actually comes to working with data, if we have a dataset with say 1000 columns, even doing something like a seaborn pairplot is gonna be undoable unless you have a NASA computer. Heck even in my own project, there was a point where I tried to simply do a scatter plot that had 70,000 entries, it takes a few moments to load that every time. Now just imagine trying to do 1000 times that. \n",
        "\n",
        "As we go down the list of issues, there is a point of diminishing returns with high dimensionality, for example, the pixels on a screen. It gets to a point where its so fine tuned that with human eye balls, you probably couldn't even see further improvements. \n",
        "\n",
        "ALSO, if you have a low number of observations in relation to the number of dimensions, you'll run into the issue of overfitting with whatever analytical approach you're taking. This is however, always fixable with... MORE OBSERVATIONS. "
      ]
    },
    {
      "cell_type": "markdown",
      "metadata": {
        "id": "ZiBJxsZla88c",
        "colab_type": "text"
      },
      "source": [
        "## 6.2 What is the rule of thumb for how many observations you should have compared to parameters in your model?"
      ]
    },
    {
      "cell_type": "markdown",
      "metadata": {
        "id": "Yofalh8vrGyv",
        "colab_type": "text"
      },
      "source": [
        "A general rule of thumb is to have 5 times the number of observations as parameters.\n",
        "\n",
        "However there is debate that goes as high as observations should be parameters squared."
      ]
    },
    {
      "cell_type": "markdown",
      "metadata": {
        "id": "NZmqdeygbHJx",
        "colab_type": "text"
      },
      "source": [
        "# Principal Component Analysis"
      ]
    },
    {
      "cell_type": "markdown",
      "metadata": {
        "id": "7iEheetpbJdN",
        "colab_type": "text"
      },
      "source": [
        "## 7.1 Load the UCI Machine Learning Repository's [Iris Dataset](https://gist.githubusercontent.com/curran/a08a1080b88344b0c8a7/raw/d546eaee765268bf2f487608c537c05e22e4b221/iris.csv) and use PCA to isolate the dataset's first and second principal components and plot them on a graph. "
      ]
    },
    {
      "cell_type": "code",
      "metadata": {
        "id": "WxwGs0ACyyr8",
        "colab_type": "code",
        "colab": {}
      },
      "source": [
        "from numpy import array\n",
        "from numpy import mean\n",
        "from numpy import std\n",
        "from numpy import cov\n",
        "from numpy.linalg import eig"
      ],
      "execution_count": 0,
      "outputs": []
    },
    {
      "cell_type": "code",
      "metadata": {
        "id": "wy9AZVgZcHLZ",
        "colab_type": "code",
        "colab": {
          "base_uri": "https://localhost:8080/",
          "height": 195
        },
        "outputId": "a86e8e19-1c74-4e94-965c-bd0a588b1370"
      },
      "source": [
        "df = pd.read_csv('https://gist.githubusercontent.com/curran/a08a1080b88344b0c8a7/raw/d546eaee765268bf2f487608c537c05e22e4b221/iris.csv')\n",
        "df.head()"
      ],
      "execution_count": 155,
      "outputs": [
        {
          "output_type": "execute_result",
          "data": {
            "text/html": [
              "<div>\n",
              "<style scoped>\n",
              "    .dataframe tbody tr th:only-of-type {\n",
              "        vertical-align: middle;\n",
              "    }\n",
              "\n",
              "    .dataframe tbody tr th {\n",
              "        vertical-align: top;\n",
              "    }\n",
              "\n",
              "    .dataframe thead th {\n",
              "        text-align: right;\n",
              "    }\n",
              "</style>\n",
              "<table border=\"1\" class=\"dataframe\">\n",
              "  <thead>\n",
              "    <tr style=\"text-align: right;\">\n",
              "      <th></th>\n",
              "      <th>sepal_length</th>\n",
              "      <th>sepal_width</th>\n",
              "      <th>petal_length</th>\n",
              "      <th>petal_width</th>\n",
              "      <th>species</th>\n",
              "    </tr>\n",
              "  </thead>\n",
              "  <tbody>\n",
              "    <tr>\n",
              "      <th>0</th>\n",
              "      <td>5.1</td>\n",
              "      <td>3.5</td>\n",
              "      <td>1.4</td>\n",
              "      <td>0.2</td>\n",
              "      <td>setosa</td>\n",
              "    </tr>\n",
              "    <tr>\n",
              "      <th>1</th>\n",
              "      <td>4.9</td>\n",
              "      <td>3.0</td>\n",
              "      <td>1.4</td>\n",
              "      <td>0.2</td>\n",
              "      <td>setosa</td>\n",
              "    </tr>\n",
              "    <tr>\n",
              "      <th>2</th>\n",
              "      <td>4.7</td>\n",
              "      <td>3.2</td>\n",
              "      <td>1.3</td>\n",
              "      <td>0.2</td>\n",
              "      <td>setosa</td>\n",
              "    </tr>\n",
              "    <tr>\n",
              "      <th>3</th>\n",
              "      <td>4.6</td>\n",
              "      <td>3.1</td>\n",
              "      <td>1.5</td>\n",
              "      <td>0.2</td>\n",
              "      <td>setosa</td>\n",
              "    </tr>\n",
              "    <tr>\n",
              "      <th>4</th>\n",
              "      <td>5.0</td>\n",
              "      <td>3.6</td>\n",
              "      <td>1.4</td>\n",
              "      <td>0.2</td>\n",
              "      <td>setosa</td>\n",
              "    </tr>\n",
              "  </tbody>\n",
              "</table>\n",
              "</div>"
            ],
            "text/plain": [
              "   sepal_length  sepal_width  petal_length  petal_width species\n",
              "0           5.1          3.5           1.4          0.2  setosa\n",
              "1           4.9          3.0           1.4          0.2  setosa\n",
              "2           4.7          3.2           1.3          0.2  setosa\n",
              "3           4.6          3.1           1.5          0.2  setosa\n",
              "4           5.0          3.6           1.4          0.2  setosa"
            ]
          },
          "metadata": {
            "tags": []
          },
          "execution_count": 155
        }
      ]
    },
    {
      "cell_type": "code",
      "metadata": {
        "id": "bVjYH4tFwPAh",
        "colab_type": "code",
        "colab": {
          "base_uri": "https://localhost:8080/",
          "height": 34
        },
        "outputId": "b5401d52-51a3-461c-cfba-b22f09c48620"
      },
      "source": [
        "# Step One, Seperate your data into x and y variables, in this case, in an Array\n",
        "\n",
        "X = [df['sepal_length'], df['sepal_width']]\n",
        "mean(X)"
      ],
      "execution_count": 156,
      "outputs": [
        {
          "output_type": "execute_result",
          "data": {
            "text/plain": [
              "4.448666666666667"
            ]
          },
          "metadata": {
            "tags": []
          },
          "execution_count": 156
        }
      ]
    },
    {
      "cell_type": "code",
      "metadata": {
        "id": "cHyh1rSMwPG1",
        "colab_type": "code",
        "colab": {
          "base_uri": "https://localhost:8080/",
          "height": 84
        },
        "outputId": "0cedaf65-4a25-461f-9d0b-92430f3662fb"
      },
      "source": [
        "# Step Two, center each column at 0 by subtracting the mean\n",
        "\n",
        "def means(X):\n",
        "  means = mean(X, axis=1)\n",
        "  return\n",
        "\n",
        "print('Means:\\n', means)\n",
        "print(df['sepal_length'].mean())\n",
        "print(df['sepal_width'].mean()) "
      ],
      "execution_count": 162,
      "outputs": [
        {
          "output_type": "stream",
          "text": [
            "Means:\n",
            " <function means at 0x7f1a2859bae8>\n",
            "5.843333333333335\n",
            "3.0540000000000007\n"
          ],
          "name": "stdout"
        }
      ]
    },
    {
      "cell_type": "code",
      "metadata": {
        "id": "SARrCAjLF4iy",
        "colab_type": "code",
        "colab": {
          "base_uri": "https://localhost:8080/",
          "height": 101
        },
        "outputId": "0d30d670-1eea-4230-a51f-33d2188f033c"
      },
      "source": [
        "df.mean()"
      ],
      "execution_count": 158,
      "outputs": [
        {
          "output_type": "execute_result",
          "data": {
            "text/plain": [
              "sepal_length    5.843333\n",
              "sepal_width     3.054000\n",
              "petal_length    3.758667\n",
              "petal_width     1.198667\n",
              "dtype: float64"
            ]
          },
          "metadata": {
            "tags": []
          },
          "execution_count": 158
        }
      ]
    },
    {
      "cell_type": "code",
      "metadata": {
        "id": "Zh3Qjw8ZzfPz",
        "colab_type": "code",
        "colab": {
          "base_uri": "https://localhost:8080/",
          "height": 1000
        },
        "outputId": "7e2958d8-2ee8-4715-bc2b-b808637422d0"
      },
      "source": [
        "# Step Three, Divide each column by its standard deviation\n",
        "\n",
        "# finding standard dev\n",
        "std_devs = np.std(X, axis=1)\n",
        "print('Standard Deviation:\\n', std_devs)\n",
        "\n",
        "# dividing each (column - mean) by std\n",
        "Z = (X - mean(X)) / std(X)   # need to get this part to subtract the mean of each column, not mean of DF\n",
        "print('\\nStandardized Data: Z\\n', Z.T)\n",
        "\n",
        "# lol, a lot of stuff here"
      ],
      "execution_count": 165,
      "outputs": [
        {
          "output_type": "stream",
          "text": [
            "Standard Deviation:\n",
            " [0.82530129 0.43214658]\n",
            "\n",
            "Standardized Data: Z\n",
            " [[ 0.42228262 -0.61505441]\n",
            " [ 0.29261549 -0.93922224]\n",
            " [ 0.16294836 -0.80955511]\n",
            " [ 0.09811479 -0.87438867]\n",
            " [ 0.35744905 -0.55022085]\n",
            " [ 0.61678331 -0.35572016]\n",
            " [ 0.09811479 -0.67988798]\n",
            " [ 0.35744905 -0.67988798]\n",
            " [-0.03155233 -1.0040558 ]\n",
            " [ 0.29261549 -0.87438867]\n",
            " [ 0.61678331 -0.48538729]\n",
            " [ 0.22778192 -0.67988798]\n",
            " [ 0.22778192 -0.93922224]\n",
            " [-0.0963859  -0.93922224]\n",
            " [ 0.87611757 -0.29088659]\n",
            " [ 0.811284   -0.03155233]\n",
            " [ 0.61678331 -0.35572016]\n",
            " [ 0.42228262 -0.61505441]\n",
            " [ 0.811284   -0.42055372]\n",
            " [ 0.42228262 -0.42055372]\n",
            " [ 0.61678331 -0.67988798]\n",
            " [ 0.42228262 -0.48538729]\n",
            " [ 0.09811479 -0.55022085]\n",
            " [ 0.42228262 -0.74472154]\n",
            " [ 0.22778192 -0.67988798]\n",
            " [ 0.35744905 -0.93922224]\n",
            " [ 0.35744905 -0.67988798]\n",
            " [ 0.48711618 -0.61505441]\n",
            " [ 0.48711618 -0.67988798]\n",
            " [ 0.16294836 -0.80955511]\n",
            " [ 0.22778192 -0.87438867]\n",
            " [ 0.61678331 -0.67988798]\n",
            " [ 0.48711618 -0.22605303]\n",
            " [ 0.68161687 -0.16121946]\n",
            " [ 0.29261549 -0.87438867]\n",
            " [ 0.35744905 -0.80955511]\n",
            " [ 0.68161687 -0.61505441]\n",
            " [ 0.29261549 -0.87438867]\n",
            " [-0.03155233 -0.93922224]\n",
            " [ 0.42228262 -0.67988798]\n",
            " [ 0.35744905 -0.61505441]\n",
            " [ 0.03328123 -1.39305719]\n",
            " [-0.03155233 -0.80955511]\n",
            " [ 0.35744905 -0.61505441]\n",
            " [ 0.42228262 -0.42055372]\n",
            " [ 0.22778192 -0.93922224]\n",
            " [ 0.42228262 -0.42055372]\n",
            " [ 0.09811479 -0.80955511]\n",
            " [ 0.55194974 -0.48538729]\n",
            " [ 0.35744905 -0.74472154]\n",
            " [ 1.65412034 -0.80955511]\n",
            " [ 1.26511895 -0.80955511]\n",
            " [ 1.58928678 -0.87438867]\n",
            " [ 0.68161687 -1.39305719]\n",
            " [ 1.32995252 -1.06888936]\n",
            " [ 0.811284   -1.06888936]\n",
            " [ 1.20028539 -0.74472154]\n",
            " [ 0.29261549 -1.32822362]\n",
            " [ 1.39478608 -1.0040558 ]\n",
            " [ 0.48711618 -1.13372293]\n",
            " [ 0.35744905 -1.58755788]\n",
            " [ 0.94095113 -0.93922224]\n",
            " [ 1.0057847  -1.45789075]\n",
            " [ 1.07061826 -1.0040558 ]\n",
            " [ 0.74645044 -1.0040558 ]\n",
            " [ 1.45961965 -0.87438867]\n",
            " [ 0.74645044 -0.93922224]\n",
            " [ 0.87611757 -1.13372293]\n",
            " [ 1.13545182 -1.45789075]\n",
            " [ 0.74645044 -1.26339006]\n",
            " [ 0.94095113 -0.80955511]\n",
            " [ 1.07061826 -1.06888936]\n",
            " [ 1.20028539 -1.26339006]\n",
            " [ 1.07061826 -1.06888936]\n",
            " [ 1.26511895 -1.0040558 ]\n",
            " [ 1.39478608 -0.93922224]\n",
            " [ 1.52445321 -1.06888936]\n",
            " [ 1.45961965 -0.93922224]\n",
            " [ 1.0057847  -1.0040558 ]\n",
            " [ 0.811284   -1.19855649]\n",
            " [ 0.68161687 -1.32822362]\n",
            " [ 0.68161687 -1.32822362]\n",
            " [ 0.87611757 -1.13372293]\n",
            " [ 1.0057847  -1.13372293]\n",
            " [ 0.61678331 -0.93922224]\n",
            " [ 1.0057847  -0.67988798]\n",
            " [ 1.45961965 -0.87438867]\n",
            " [ 1.20028539 -1.39305719]\n",
            " [ 0.74645044 -0.93922224]\n",
            " [ 0.68161687 -1.26339006]\n",
            " [ 0.68161687 -1.19855649]\n",
            " [ 1.07061826 -0.93922224]\n",
            " [ 0.87611757 -1.19855649]\n",
            " [ 0.35744905 -1.39305719]\n",
            " [ 0.74645044 -1.13372293]\n",
            " [ 0.811284   -0.93922224]\n",
            " [ 0.811284   -1.0040558 ]\n",
            " [ 1.13545182 -1.0040558 ]\n",
            " [ 0.42228262 -1.26339006]\n",
            " [ 0.811284   -1.06888936]\n",
            " [ 1.20028539 -0.74472154]\n",
            " [ 0.87611757 -1.13372293]\n",
            " [ 1.7189539  -0.93922224]\n",
            " [ 1.20028539 -1.0040558 ]\n",
            " [ 1.32995252 -0.93922224]\n",
            " [ 2.04312173 -0.93922224]\n",
            " [ 0.29261549 -1.26339006]\n",
            " [ 1.84862103 -1.0040558 ]\n",
            " [ 1.45961965 -1.26339006]\n",
            " [ 1.78378747 -0.55022085]\n",
            " [ 1.32995252 -0.80955511]\n",
            " [ 1.26511895 -1.13372293]\n",
            " [ 1.52445321 -0.93922224]\n",
            " [ 0.811284   -1.26339006]\n",
            " [ 0.87611757 -1.06888936]\n",
            " [ 1.26511895 -0.80955511]\n",
            " [ 1.32995252 -0.93922224]\n",
            " [ 2.10795529 -0.42055372]\n",
            " [ 2.10795529 -1.19855649]\n",
            " [ 1.0057847  -1.45789075]\n",
            " [ 1.58928678 -0.80955511]\n",
            " [ 0.74645044 -1.06888936]\n",
            " [ 2.10795529 -1.06888936]\n",
            " [ 1.20028539 -1.13372293]\n",
            " [ 1.45961965 -0.74472154]\n",
            " [ 1.78378747 -0.80955511]\n",
            " [ 1.13545182 -1.06888936]\n",
            " [ 1.07061826 -0.93922224]\n",
            " [ 1.26511895 -1.06888936]\n",
            " [ 1.78378747 -0.93922224]\n",
            " [ 1.9134546  -1.06888936]\n",
            " [ 2.23762242 -0.42055372]\n",
            " [ 1.26511895 -1.06888936]\n",
            " [ 1.20028539 -1.06888936]\n",
            " [ 1.07061826 -1.19855649]\n",
            " [ 2.10795529 -0.93922224]\n",
            " [ 1.20028539 -0.67988798]\n",
            " [ 1.26511895 -0.87438867]\n",
            " [ 1.0057847  -0.93922224]\n",
            " [ 1.58928678 -0.87438867]\n",
            " [ 1.45961965 -0.87438867]\n",
            " [ 1.58928678 -0.87438867]\n",
            " [ 0.87611757 -1.13372293]\n",
            " [ 1.52445321 -0.80955511]\n",
            " [ 1.45961965 -0.74472154]\n",
            " [ 1.45961965 -0.93922224]\n",
            " [ 1.20028539 -1.26339006]\n",
            " [ 1.32995252 -0.93922224]\n",
            " [ 1.13545182 -0.67988798]\n",
            " [ 0.94095113 -0.93922224]]\n"
          ],
          "name": "stdout"
        }
      ]
    },
    {
      "cell_type": "code",
      "metadata": {
        "id": "YgXTl5tR8Ynq",
        "colab_type": "code",
        "colab": {
          "base_uri": "https://localhost:8080/",
          "height": 336
        },
        "outputId": "6ebcbf0d-a888-497a-967b-d12e37ad8b49"
      },
      "source": [
        "from sklearn.preprocessing import StandardScaler\n",
        "scaler = StandardScaler()\n",
        "print(scaler.fit(X))\n",
        "print(scaler.transform(X))"
      ],
      "execution_count": 136,
      "outputs": [
        {
          "output_type": "stream",
          "text": [
            "StandardScaler(copy=True, with_mean=True, with_std=True)\n",
            "[[ 1.  1.  1.  1.  1.  1.  1.  1.  1.  1.  1.  1.  1.  1.  1.  1.  1.  1.\n",
            "   1.  1.  1.  1.  1.  1.  1.  1.  1.  1.  1.  1.  1.  1.  1.  1.  1.  1.\n",
            "   1.  1.  1.  1.  1.  1.  1.  1.  1.  1.  1.  1.  1.  1.  1.  1.  1.  1.\n",
            "   1.  1.  1.  1.  1.  1.  1.  1.  1.  1.  1.  1.  1.  1.  1.  1.  1.  1.\n",
            "   1.  1.  1.  1.  1.  1.  1.  1.  1.  1.  1.  1.  1.  1.  1.  1.  1.  1.\n",
            "   1.  1.  1.  1.  1.  1.  1.  1.  1.  1.  1.  1.  1.  1.  1.  1.  1.  1.\n",
            "   1.  1.  1.  1.  1.  1.  1.  1.  1.  1.  1.  1.  1.  1.  1.  1.  1.  1.\n",
            "   1.  1.  1.  1.  1.  1.  1.  1.  1.  1.  1.  1.  1.  1.  1.  1.  1.  1.\n",
            "   1.  1.  1.  1.  1.  1.]\n",
            " [-1. -1. -1. -1. -1. -1. -1. -1. -1. -1. -1. -1. -1. -1. -1. -1. -1. -1.\n",
            "  -1. -1. -1. -1. -1. -1. -1. -1. -1. -1. -1. -1. -1. -1. -1. -1. -1. -1.\n",
            "  -1. -1. -1. -1. -1. -1. -1. -1. -1. -1. -1. -1. -1. -1. -1. -1. -1. -1.\n",
            "  -1. -1. -1. -1. -1. -1. -1. -1. -1. -1. -1. -1. -1. -1. -1. -1. -1. -1.\n",
            "  -1. -1. -1. -1. -1. -1. -1. -1. -1. -1. -1. -1. -1. -1. -1. -1. -1. -1.\n",
            "  -1. -1. -1. -1. -1. -1. -1. -1. -1. -1. -1. -1. -1. -1. -1. -1. -1. -1.\n",
            "  -1. -1. -1. -1. -1. -1. -1. -1. -1. -1. -1. -1. -1. -1. -1. -1. -1. -1.\n",
            "  -1. -1. -1. -1. -1. -1. -1. -1. -1. -1. -1. -1. -1. -1. -1. -1. -1. -1.\n",
            "  -1. -1. -1. -1. -1. -1.]]\n"
          ],
          "name": "stdout"
        }
      ]
    },
    {
      "cell_type": "code",
      "metadata": {
        "id": "09l8-qdyzfYD",
        "colab_type": "code",
        "colab": {
          "base_uri": "https://localhost:8080/",
          "height": 67
        },
        "outputId": "d1680d5e-c045-46b5-e2d6-1d76d0d64b85"
      },
      "source": [
        "# Step Four Calculate Variance-Covariance MAtrix of Z\n",
        "\n",
        "covariance_matrix = cov(Z)\n",
        "print('Covariance Matrix:\\n ', covariance_matrix)\n"
      ],
      "execution_count": 137,
      "outputs": [
        {
          "output_type": "stream",
          "text": [
            "Covariance Matrix:\n",
            "  [[ 0.2882238  -0.01650607]\n",
            " [-0.01650607  0.07902544]]\n"
          ],
          "name": "stdout"
        }
      ]
    },
    {
      "cell_type": "code",
      "metadata": {
        "id": "_HCditNEzfc1",
        "colab_type": "code",
        "colab": {
          "base_uri": "https://localhost:8080/",
          "height": 118
        },
        "outputId": "e108d887-1246-497d-abde-0217d89fcaff"
      },
      "source": [
        "# Step Five, Calculate Eigen vectors and Eigenvalues of Variance-Covariance Matrix \n",
        "\n",
        "values, vectors = eig(covariance_matrix)\n",
        "print('Eigenvectors:\\n', vectors)\n",
        "print('\\nEigenvalues:\\n',values)\n",
        "\n",
        "# step six is just sorting them, so the largest Eigenvalue corresponds to the \n",
        "# directino of the greatest variance in the data.\n",
        "# the eigenvalue eigenvector pair with the largest eigen value becomes... PC1!!\n",
        "# (thats Principle Component 1)"
      ],
      "execution_count": 138,
      "outputs": [
        {
          "output_type": "stream",
          "text": [
            "Eigenvectors:\n",
            " [[ 0.99693955  0.07817635]\n",
            " [-0.07817635  0.99693955]]\n",
            "\n",
            "Eigenvalues:\n",
            " [0.28951814 0.0777311 ]\n"
          ],
          "name": "stdout"
        }
      ]
    },
    {
      "cell_type": "code",
      "metadata": {
        "id": "tbTVJRAezfkL",
        "colab_type": "code",
        "colab": {
          "base_uri": "https://localhost:8080/",
          "height": 1000
        },
        "outputId": "e2124e27-3f80-4ca6-8655-f946b57b5817"
      },
      "source": [
        "# Step Seven Use a matrix transformation to project the datapoints onto our eigen vector subspaces\n",
        "\n",
        "projected = vectors.dot(X)\n",
        "print('Projected Data:\\n', projected.T)"
      ],
      "execution_count": 139,
      "outputs": [
        {
          "output_type": "stream",
          "text": [
            "Projected Data:\n",
            " [[5.35800892 3.090589  ]\n",
            " [5.11953284 2.6077545 ]\n",
            " [4.9357802  2.82277768]\n",
            " [4.82826861 2.73090136]\n",
            " [5.2661326  3.19810059]\n",
            " [5.68836133 3.46591192]\n",
            " [4.85172151 3.02998323]\n",
            " [5.25049733 2.99871268]\n",
            " [4.61324543 2.54714872]\n",
            " [5.12735047 2.70744846]\n",
            " [5.67272606 3.26652401]\n",
            " [5.05110942 3.01434796]\n",
            " [5.01983888 2.61557214]\n",
            " [4.52136911 2.65466031]\n",
            " [6.09495478 3.53433533]\n",
            " [6.02653137 3.94092878]\n",
            " [5.68836133 3.46591192]\n",
            " [5.35800892 3.090589  ]\n",
            " [5.97962556 3.34276505]\n",
            " [5.38146183 3.38967087]\n",
            " [5.64927315 2.96744214]\n",
            " [5.37364419 3.28997691]\n",
            " [4.86735678 3.22937114]\n",
            " [5.34237365 2.89120109]\n",
            " [5.05110942 3.01434796]\n",
            " [5.21922679 2.59993687]\n",
            " [5.25049733 2.99871268]\n",
            " [5.45770288 3.08277137]\n",
            " [5.44988524 2.98307741]\n",
            " [4.9357802  2.82277768]\n",
            " [5.02765652 2.71526609]\n",
            " [5.64927315 2.96744214]\n",
            " [5.50460869 3.6809351 ]\n",
            " [5.81150819 3.75717614]\n",
            " [5.12735047 2.70744846]\n",
            " [5.23486206 2.79932478]\n",
            " [5.75678474 3.05931846]\n",
            " [5.12735047 2.70744846]\n",
            " [4.62106306 2.64684268]\n",
            " [5.35019129 2.99089505]\n",
            " [5.25831497 3.09840664]\n",
            " [4.66603357 1.94116736]\n",
            " [4.63669833 2.84623059]\n",
            " [5.25831497 3.09840664]\n",
            " [5.38146183 3.38967087]\n",
            " [5.01983888 2.61557214]\n",
            " [5.38146183 3.38967087]\n",
            " [4.83608624 2.83059532]\n",
            " [5.5730321  3.27434164]\n",
            " [5.2426797  2.89901873]\n",
            " [7.22874115 2.64297207]\n",
            " [6.63057743 2.68987788]\n",
            " [7.12122956 2.55109575]\n",
            " [5.66297312 1.86299101]\n",
            " [6.69900084 2.28328443]\n",
            " [5.9014492  2.34582551]\n",
            " [6.53870111 2.79738947]\n",
            " [5.07262702 2.00959077]\n",
            " [6.80651243 2.37516074]\n",
            " [5.39516179 2.28521973]\n",
            " [5.14105044 1.60299732]\n",
            " [6.11647238 2.52957815]\n",
            " [6.15362525 1.72420888]\n",
            " [6.30804266 2.41424892]\n",
            " [5.80957288 2.4533371 ]\n",
            " [6.92184165 2.56673102]\n",
            " [5.81739052 2.55303105]\n",
            " [5.99332552 2.23831392]\n",
            " [6.35301316 1.7085736 ]\n",
            " [5.77830234 2.05456128]\n",
            " [6.13210765 2.72896606]\n",
            " [6.30022502 2.31455497]\n",
            " [6.47616002 1.99983783]\n",
            " [6.30022502 2.31455497]\n",
            " [6.60712452 2.39079602]\n",
            " [6.81433006 2.4748547 ]\n",
            " [6.9980827  2.25983152]\n",
            " [6.91402402 2.46703706]\n",
            " [6.2083487  2.42206656]\n",
            " [5.88581393 2.1464376 ]\n",
            " [5.67079075 1.96268496]\n",
            " [5.67079075 1.96268496]\n",
            " [5.99332552 2.23831392]\n",
            " [6.19271343 2.22267865]\n",
            " [5.61800261 2.56866632]\n",
            " [6.24743688 2.92053633]\n",
            " [6.92184165 2.56673102]\n",
            " [6.46052475 1.80044992]\n",
            " [5.81739052 2.55303105]\n",
            " [5.67860839 2.06237892]\n",
            " [5.68642602 2.16207287]\n",
            " [6.31586029 2.51394288]\n",
            " [5.98550789 2.13861996]\n",
            " [5.16450334 1.90207918]\n",
            " [5.79393761 2.25394919]\n",
            " [5.91708447 2.54521342]\n",
            " [5.90926684 2.44551946]\n",
            " [6.40773661 2.40643129]\n",
            " [5.27983257 2.09364946]\n",
            " [5.9014492  2.34582551]\n",
            " [6.53870111 2.79738947]\n",
            " [5.99332552 2.23831392]\n",
            " [7.31279984 2.43576652]\n",
            " [6.50743056 2.39861365]\n",
            " [6.71463611 2.48267233]\n",
            " [7.81126961 2.39667835]\n",
            " [5.08044466 2.10928473]\n",
            " [7.50437011 2.3204373 ]\n",
            " [6.87493584 1.96856729]\n",
            " [7.4593996  3.02611261]\n",
            " [6.73027138 2.68206024]\n",
            " [6.59148925 2.19140811]\n",
            " [7.01371797 2.45921943]\n",
            " [5.8779963  2.04674365]\n",
            " [6.00114316 2.33800787]\n",
            " [6.63057743 2.68987788]\n",
            " [6.71463611 2.48267233]\n",
            " [7.97350465 3.18641235]\n",
            " [7.87969302 1.99008489]\n",
            " [6.15362525 1.72420888]\n",
            " [7.1290472  2.6507897 ]\n",
            " [5.80175525 2.35364314]\n",
            " [7.89532829 2.1894728 ]\n",
            " [6.49179529 2.19922574]\n",
            " [6.93747692 2.76611893]\n",
            " [7.42812906 2.6273368 ]\n",
            " [6.39991897 2.30673733]\n",
            " [6.31586029 2.51394288]\n",
            " [6.59930688 2.29110206]\n",
            " [7.41249379 2.42794889]\n",
            " [7.59624643 2.21292571]\n",
            " [8.17289256 3.17077708]\n",
            " [6.59930688 2.29110206]\n",
            " [6.49961293 2.2989197 ]\n",
            " [6.28458975 2.11516706]\n",
            " [7.91096356 2.38886071]\n",
            " [6.54651874 2.89708342]\n",
            " [6.62275979 2.59018392]\n",
            " [6.21616634 2.52176051]\n",
            " [7.12122956 2.55109575]\n",
            " [6.92184165 2.56673102]\n",
            " [7.12122956 2.55109575]\n",
            " [5.99332552 2.23831392]\n",
            " [7.02935324 2.65860734]\n",
            " [6.93747692 2.76611893]\n",
            " [6.91402402 2.46703706]\n",
            " [6.47616002 1.99983783]\n",
            " [6.71463611 2.48267233]\n",
            " [6.44682479 2.90490106]\n",
            " [6.11647238 2.52957815]]\n"
          ],
          "name": "stdout"
        }
      ]
    },
    {
      "cell_type": "markdown",
      "metadata": {
        "id": "w_MPd4LQ20Ah",
        "colab_type": "text"
      },
      "source": [
        "Now to Run a PCA via library functions to check my answers"
      ]
    },
    {
      "cell_type": "code",
      "metadata": {
        "id": "_i5cPaxR302l",
        "colab_type": "code",
        "colab": {}
      },
      "source": [
        "from sklearn.decomposition import PCA"
      ],
      "execution_count": 0,
      "outputs": []
    },
    {
      "cell_type": "code",
      "metadata": {
        "id": "_OnrLXQy2PDr",
        "colab_type": "code",
        "colab": {
          "base_uri": "https://localhost:8080/",
          "height": 1000
        },
        "outputId": "6f19153c-f3ee-490a-84da-22682a6ecf4c"
      },
      "source": [
        "# assigning x and z for examples sake even though they're in the cell above\n",
        "X = array([df['sepal_length'], df['sepal_width']])\n",
        "Z = (X - mean(X)) / std(X)\n",
        "print(\"Data: \\n\", Z)\n",
        "\n",
        "# Create PCA instance\n",
        "pca = PCA(2)\n",
        "\n",
        "# fit on data\n",
        "pca.fit(Z)\n",
        "\n",
        "# Access eigen vectors and eigen values\n",
        "print('\\n Eigen Vectors: \\n', pca.components_)\n",
        "print('\\n Eigen Values: \\n', pca.explained_variance_)\n",
        "\n",
        "# transform the data\n",
        "B = pca.transform(X)\n",
        "print('\\n Projected Data: \\n', B)\n",
        "\n",
        "\n"
      ],
      "execution_count": 140,
      "outputs": [
        {
          "output_type": "stream",
          "text": [
            "Data: \n",
            " [[ 0.42228262  0.29261549  0.16294836  0.09811479  0.35744905  0.61678331\n",
            "   0.09811479  0.35744905 -0.03155233  0.29261549  0.61678331  0.22778192\n",
            "   0.22778192 -0.0963859   0.87611757  0.811284    0.61678331  0.42228262\n",
            "   0.811284    0.42228262  0.61678331  0.42228262  0.09811479  0.42228262\n",
            "   0.22778192  0.35744905  0.35744905  0.48711618  0.48711618  0.16294836\n",
            "   0.22778192  0.61678331  0.48711618  0.68161687  0.29261549  0.35744905\n",
            "   0.68161687  0.29261549 -0.03155233  0.42228262  0.35744905  0.03328123\n",
            "  -0.03155233  0.35744905  0.42228262  0.22778192  0.42228262  0.09811479\n",
            "   0.55194974  0.35744905  1.65412034  1.26511895  1.58928678  0.68161687\n",
            "   1.32995252  0.811284    1.20028539  0.29261549  1.39478608  0.48711618\n",
            "   0.35744905  0.94095113  1.0057847   1.07061826  0.74645044  1.45961965\n",
            "   0.74645044  0.87611757  1.13545182  0.74645044  0.94095113  1.07061826\n",
            "   1.20028539  1.07061826  1.26511895  1.39478608  1.52445321  1.45961965\n",
            "   1.0057847   0.811284    0.68161687  0.68161687  0.87611757  1.0057847\n",
            "   0.61678331  1.0057847   1.45961965  1.20028539  0.74645044  0.68161687\n",
            "   0.68161687  1.07061826  0.87611757  0.35744905  0.74645044  0.811284\n",
            "   0.811284    1.13545182  0.42228262  0.811284    1.20028539  0.87611757\n",
            "   1.7189539   1.20028539  1.32995252  2.04312173  0.29261549  1.84862103\n",
            "   1.45961965  1.78378747  1.32995252  1.26511895  1.52445321  0.811284\n",
            "   0.87611757  1.26511895  1.32995252  2.10795529  2.10795529  1.0057847\n",
            "   1.58928678  0.74645044  2.10795529  1.20028539  1.45961965  1.78378747\n",
            "   1.13545182  1.07061826  1.26511895  1.78378747  1.9134546   2.23762242\n",
            "   1.26511895  1.20028539  1.07061826  2.10795529  1.20028539  1.26511895\n",
            "   1.0057847   1.58928678  1.45961965  1.58928678  0.87611757  1.52445321\n",
            "   1.45961965  1.45961965  1.20028539  1.32995252  1.13545182  0.94095113]\n",
            " [-0.61505441 -0.93922224 -0.80955511 -0.87438867 -0.55022085 -0.35572016\n",
            "  -0.67988798 -0.67988798 -1.0040558  -0.87438867 -0.48538729 -0.67988798\n",
            "  -0.93922224 -0.93922224 -0.29088659 -0.03155233 -0.35572016 -0.61505441\n",
            "  -0.42055372 -0.42055372 -0.67988798 -0.48538729 -0.55022085 -0.74472154\n",
            "  -0.67988798 -0.93922224 -0.67988798 -0.61505441 -0.67988798 -0.80955511\n",
            "  -0.87438867 -0.67988798 -0.22605303 -0.16121946 -0.87438867 -0.80955511\n",
            "  -0.61505441 -0.87438867 -0.93922224 -0.67988798 -0.61505441 -1.39305719\n",
            "  -0.80955511 -0.61505441 -0.42055372 -0.93922224 -0.42055372 -0.80955511\n",
            "  -0.48538729 -0.74472154 -0.80955511 -0.80955511 -0.87438867 -1.39305719\n",
            "  -1.06888936 -1.06888936 -0.74472154 -1.32822362 -1.0040558  -1.13372293\n",
            "  -1.58755788 -0.93922224 -1.45789075 -1.0040558  -1.0040558  -0.87438867\n",
            "  -0.93922224 -1.13372293 -1.45789075 -1.26339006 -0.80955511 -1.06888936\n",
            "  -1.26339006 -1.06888936 -1.0040558  -0.93922224 -1.06888936 -0.93922224\n",
            "  -1.0040558  -1.19855649 -1.32822362 -1.32822362 -1.13372293 -1.13372293\n",
            "  -0.93922224 -0.67988798 -0.87438867 -1.39305719 -0.93922224 -1.26339006\n",
            "  -1.19855649 -0.93922224 -1.19855649 -1.39305719 -1.13372293 -0.93922224\n",
            "  -1.0040558  -1.0040558  -1.26339006 -1.06888936 -0.74472154 -1.13372293\n",
            "  -0.93922224 -1.0040558  -0.93922224 -0.93922224 -1.26339006 -1.0040558\n",
            "  -1.26339006 -0.55022085 -0.80955511 -1.13372293 -0.93922224 -1.26339006\n",
            "  -1.06888936 -0.80955511 -0.93922224 -0.42055372 -1.19855649 -1.45789075\n",
            "  -0.80955511 -1.06888936 -1.06888936 -1.13372293 -0.74472154 -0.80955511\n",
            "  -1.06888936 -0.93922224 -1.06888936 -0.93922224 -1.06888936 -0.42055372\n",
            "  -1.06888936 -1.06888936 -1.19855649 -0.93922224 -0.67988798 -0.87438867\n",
            "  -0.93922224 -0.87438867 -0.87438867 -0.87438867 -1.13372293 -0.80955511\n",
            "  -0.74472154 -0.93922224 -1.26339006 -0.93922224 -0.67988798 -0.93922224]]\n",
            "\n",
            " Eigen Vectors: \n",
            " [[-4.42242130e-02 -5.25162529e-02 -4.14601997e-02 -4.14601997e-02\n",
            "  -3.86961864e-02 -4.14601997e-02 -3.31681597e-02 -4.42242130e-02\n",
            "  -4.14601997e-02 -4.97522396e-02 -4.69882263e-02 -3.86961864e-02\n",
            "  -4.97522396e-02 -3.59321730e-02 -4.97522396e-02 -3.59321730e-02\n",
            "  -4.14601997e-02 -4.42242130e-02 -5.25162529e-02 -3.59321730e-02\n",
            "  -5.52802662e-02 -3.86961864e-02 -2.76401331e-02 -4.97522396e-02\n",
            "  -3.86961864e-02 -5.52802662e-02 -4.42242130e-02 -4.69882263e-02\n",
            "  -4.97522396e-02 -4.14601997e-02 -4.69882263e-02 -5.52802662e-02\n",
            "  -3.04041464e-02 -3.59321730e-02 -4.97522396e-02 -4.97522396e-02\n",
            "  -5.52802662e-02 -4.97522396e-02 -3.86961864e-02 -4.69882263e-02\n",
            "  -4.14601997e-02 -6.08082928e-02 -3.31681597e-02 -4.14601997e-02\n",
            "  -3.59321730e-02 -4.97522396e-02 -3.59321730e-02 -3.86961864e-02\n",
            "  -4.42242130e-02 -4.69882263e-02 -1.05032506e-01 -8.84484260e-02\n",
            "  -1.05032506e-01 -8.84484260e-02 -1.02268493e-01 -8.01563860e-02\n",
            "  -8.29203993e-02 -6.91003328e-02 -1.02268493e-01 -6.91003328e-02\n",
            "  -8.29203993e-02 -8.01563860e-02 -1.05032506e-01 -8.84484260e-02\n",
            "  -7.46283594e-02 -9.95044792e-02 -7.18643461e-02 -8.56844126e-02\n",
            "  -1.10560532e-01 -8.56844126e-02 -7.46283594e-02 -9.12124393e-02\n",
            "  -1.05032506e-01 -9.12124393e-02 -9.67404659e-02 -9.95044792e-02\n",
            "  -1.10560532e-01 -1.02268493e-01 -8.56844126e-02 -8.56844126e-02\n",
            "  -8.56844126e-02 -8.56844126e-02 -8.56844126e-02 -9.12124393e-02\n",
            "  -6.63363195e-02 -7.18643461e-02 -9.95044792e-02 -1.10560532e-01\n",
            "  -7.18643461e-02 -8.29203993e-02 -8.01563860e-02 -8.56844126e-02\n",
            "  -8.84484260e-02 -7.46283594e-02 -8.01563860e-02 -7.46283594e-02\n",
            "  -7.73923727e-02 -9.12124393e-02 -7.18643461e-02 -8.01563860e-02\n",
            "  -8.29203993e-02 -8.56844126e-02 -1.13324546e-01 -9.39764526e-02\n",
            "  -9.67404659e-02 -1.27144612e-01 -6.63363195e-02 -1.21616586e-01\n",
            "  -1.16088559e-01 -9.95044792e-02 -9.12124393e-02 -1.02268493e-01\n",
            "  -1.05032506e-01 -8.84484260e-02 -8.29203993e-02 -8.84484260e-02\n",
            "  -9.67404659e-02 -1.07796519e-01 -1.40964679e-01 -1.05032506e-01\n",
            "  -1.02268493e-01 -7.73923727e-02 -1.35436652e-01 -9.95044792e-02\n",
            "  -9.39764526e-02 -1.10560532e-01 -9.39764526e-02 -8.56844126e-02\n",
            "  -9.95044792e-02 -1.16088559e-01 -1.27144612e-01 -1.13324546e-01\n",
            "  -9.95044792e-02 -9.67404659e-02 -9.67404659e-02 -1.29908626e-01\n",
            "  -8.01563860e-02 -9.12124393e-02 -8.29203993e-02 -1.05032506e-01\n",
            "  -9.95044792e-02 -1.05032506e-01 -8.56844126e-02 -9.95044792e-02\n",
            "  -9.39764526e-02 -1.02268493e-01 -1.05032506e-01 -9.67404659e-02\n",
            "  -7.73923727e-02 -8.01563860e-02]\n",
            " [-9.69563911e-01 -2.32852711e-02 -2.81628983e-04 -1.30197073e-02\n",
            "   1.50228403e-02 -1.30197073e-02 -5.32053453e-03 -1.55860983e-02\n",
            "  -1.30197073e-02  3.02334333e-02  7.32366750e-03  2.77609187e-02\n",
            "   4.75727656e-03  3.03273096e-02  4.75727656e-03  3.03273096e-02\n",
            "  -1.30197073e-02  9.89005844e-03  2.19088563e-03  4.85115289e-03\n",
            "  -3.75505311e-04 -1.04533164e-02  1.25503257e-02  4.75727656e-03\n",
            "   2.77609187e-02 -3.75505311e-04 -1.55860983e-02  7.32366750e-03\n",
            "   4.75727656e-03 -2.81628983e-04  3.27998242e-02 -3.75505311e-04\n",
            "  -2.75414359e-03  4.85115289e-03  3.02334333e-02  4.75727656e-03\n",
            "  -3.75505311e-04  3.02334333e-02  1.50228403e-02  7.32366750e-03\n",
            "  -2.81628983e-04 -5.50828719e-03  7.41754383e-03 -2.81628983e-04\n",
            "   4.85115289e-03  4.75727656e-03  4.85115289e-03 -2.31913948e-02\n",
            "   9.89005844e-03  7.32366750e-03  4.38177125e-03 -3.11721966e-02\n",
            "   4.38177125e-03 -3.11721966e-02  6.94816219e-03  2.74792897e-02\n",
            "  -5.63257966e-04  1.22686967e-02  6.94816219e-03 -1.32074600e-02\n",
            "  -5.63257966e-04  2.74792897e-02  4.38177125e-03 -3.11721966e-02\n",
            "   7.13591485e-03  9.51455313e-03  9.70230578e-03 -2.86058056e-02\n",
            "  -7.51010621e-04 -2.86058056e-02  3.26120716e-02 -3.37385875e-02\n",
            "   4.38177125e-03 -3.37385875e-02  1.20809441e-02  9.51455313e-03\n",
            "  -7.51010621e-04  6.94816219e-03 -2.86058056e-02 -2.86058056e-02\n",
            "  -2.86058056e-02 -2.86058056e-02 -2.86058056e-02 -3.37385875e-02\n",
            "   1.48350877e-02  9.70230578e-03  9.51455313e-03 -7.51010621e-04\n",
            "   9.70230578e-03 -5.63257966e-04  2.00313297e-03 -2.86058056e-02\n",
            "  -3.11721966e-02  3.26120716e-02  2.00313297e-03  3.26120716e-02\n",
            "   3.00456806e-02  1.72137259e-02  3.51784625e-02  2.74792897e-02\n",
            "  -5.63257966e-04 -2.86058056e-02  4.76349119e-02  1.46473350e-02\n",
            "   1.20809441e-02  3.48029572e-02 -1.06410691e-02  3.99357391e-02\n",
            "  -5.88379250e-03  9.51455313e-03 -3.37385875e-02  6.94816219e-03\n",
            "   4.38177125e-03  1.97801169e-02 -5.63257966e-04 -3.11721966e-02\n",
            "   1.20809441e-02 -4.91369331e-02  2.19710025e-02  4.38177125e-03\n",
            "   6.94816219e-03  3.00456806e-02  7.80560978e-02  9.51455313e-03\n",
            "   1.46473350e-02 -7.51010621e-04  1.46473350e-02 -2.86058056e-02\n",
            "   9.51455313e-03 -5.88379250e-03 -1.61493562e-02 -3.31740156e-03\n",
            "   9.51455313e-03  1.20809441e-02  1.20809441e-02  3.22365663e-02\n",
            "   2.00313297e-03  1.72137259e-02 -5.63257966e-04  4.38177125e-03\n",
            "   9.51455313e-03  4.38177125e-03 -2.86058056e-02  9.51455313e-03\n",
            "   1.46473350e-02  6.94816219e-03  4.38177125e-03  1.20809441e-02\n",
            "   3.00456806e-02  2.74792897e-02]]\n",
            "\n",
            " Eigen Values: \n",
            " [2.75099335e+02 9.49560500e-30]\n",
            "\n",
            " Projected Data: \n",
            " [[-69.89722815  -1.87878642]\n",
            " [-33.71795232  -1.87878642]]\n"
          ],
          "name": "stdout"
        }
      ]
    },
    {
      "cell_type": "code",
      "metadata": {
        "id": "KfCNEHEeCCl4",
        "colab_type": "code",
        "colab": {}
      },
      "source": [
        ""
      ],
      "execution_count": 0,
      "outputs": []
    },
    {
      "cell_type": "code",
      "metadata": {
        "id": "wVEMC0iDCCox",
        "colab_type": "code",
        "colab": {}
      },
      "source": [
        ""
      ],
      "execution_count": 0,
      "outputs": []
    },
    {
      "cell_type": "code",
      "metadata": {
        "id": "AahzKOb6CCrM",
        "colab_type": "code",
        "colab": {}
      },
      "source": [
        ""
      ],
      "execution_count": 0,
      "outputs": []
    },
    {
      "cell_type": "code",
      "metadata": {
        "id": "qTWIPdpYCCuF",
        "colab_type": "code",
        "colab": {}
      },
      "source": [
        ""
      ],
      "execution_count": 0,
      "outputs": []
    },
    {
      "cell_type": "code",
      "metadata": {
        "id": "coh2bIqHCCwn",
        "colab_type": "code",
        "colab": {}
      },
      "source": [
        ""
      ],
      "execution_count": 0,
      "outputs": []
    },
    {
      "cell_type": "code",
      "metadata": {
        "id": "wl5i3P9hCCz2",
        "colab_type": "code",
        "colab": {}
      },
      "source": [
        ""
      ],
      "execution_count": 0,
      "outputs": []
    },
    {
      "cell_type": "code",
      "metadata": {
        "id": "E0wAqT8DAlNR",
        "colab_type": "code",
        "colab": {}
      },
      "source": [
        "# here it is from an article online that loads things into traing and test features\n",
        "\n",
        "url = \"https://archive.ics.uci.edu/ml/machine-learning-databases/iris/iris.data\"\n",
        "# load dataset into Pandas DataFrame\n",
        "df = pd.read_csv(url, names=['sepal length','sepal width','petal length','petal width','target'])\n",
        "\n",
        "from sklearn.preprocessing import StandardScaler\n",
        "features = ['sepal length', 'sepal width', 'petal length', 'petal width']\n",
        "# Separating out the features\n",
        "x = df.loc[:, features].values\n",
        "# Separating out the target\n",
        "y = df.loc[:,['target']].values\n",
        "# Standardizing the features\n",
        "x = StandardScaler().fit_transform(x)\n",
        "\n"
      ],
      "execution_count": 0,
      "outputs": []
    },
    {
      "cell_type": "code",
      "metadata": {
        "id": "naLN05TMAzQX",
        "colab_type": "code",
        "colab": {}
      },
      "source": [
        "from sklearn.decomposition import PCA\n",
        "pca = PCA(n_components=2)\n",
        "principalComponents = pca.fit_transform(x)\n",
        "principalDf = pd.DataFrame(data = principalComponents\n",
        "             , columns = ['principal component 1', 'principal component 2'])\n",
        "\n",
        "finalDf = pd.concat([principalDf, df[['target']]], axis = 1)\n"
      ],
      "execution_count": 0,
      "outputs": []
    },
    {
      "cell_type": "code",
      "metadata": {
        "id": "MRj3tJuQA3Zq",
        "colab_type": "code",
        "colab": {
          "base_uri": "https://localhost:8080/",
          "height": 523
        },
        "outputId": "0f602a97-ed6d-4130-9f7c-cb1d99be137f"
      },
      "source": [
        "fig = plt.figure(figsize = (8,8))\n",
        "ax = fig.add_subplot(1,1,1) \n",
        "ax.set_xlabel('Principal Component 1', fontsize = 15)\n",
        "ax.set_ylabel('Principal Component 2', fontsize = 15)\n",
        "ax.set_title('2 component PCA', fontsize = 20)\n",
        "targets = ['Iris-setosa', 'Iris-versicolor', 'Iris-virginica']\n",
        "colors = ['r', 'g', 'b']\n",
        "for target, color in zip(targets,colors):\n",
        "    indicesToKeep = finalDf['target'] == target\n",
        "    ax.scatter(finalDf.loc[indicesToKeep, 'principal component 1']\n",
        "               , finalDf.loc[indicesToKeep, 'principal component 2']\n",
        "               , c = color\n",
        "               , s = 50)\n",
        "ax.legend(targets)\n",
        "ax.grid()"
      ],
      "execution_count": 130,
      "outputs": [
        {
          "output_type": "display_data",
          "data": {
            "image/png": "[encoded data removed]",
            "text/plain": [
              "<Figure size 576x576 with 1 Axes>"
            ]
          },
          "metadata": {
            "tags": []
          }
        }
      ]
    },
    {
      "cell_type": "markdown",
      "metadata": {
        "id": "RQx7UvsucIrL",
        "colab_type": "text"
      },
      "source": [
        "# Stretch Goal\n",
        "\n",
        "## 1) Do NOT work on the stretch goal until you feel like you have a firm grasp of eigenvectors, eigenvalues, and PCA. Prioritize self-study over the stretch goal if you are not comfortable with those topics yet.\n",
        "\n",
        "## 2) Explore further the intuition behind eigenvalues and eigenvectors by creating your very own eigenfaces:\n",
        "\n",
        "<center>![Eigenfaces](https://i.pinimg.com/236x/1c/f1/01/1cf101a9859437a5d096a04b05be06b4--faces-tattoo.jpg)</center>\n",
        "\n",
        "You don't necessarily have to use this resource, but this will get you started: \n",
        "[Eigenface Tutorial](https://sandipanweb.wordpress.com/2018/01/06/eigenfaces-and-a-simple-face-detector-with-pca-svd-in-python/)"
      ]
    }
  ]
}